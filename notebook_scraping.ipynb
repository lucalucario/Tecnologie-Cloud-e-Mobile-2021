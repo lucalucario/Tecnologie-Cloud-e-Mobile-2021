{
 "cells": [
  {
   "cell_type": "markdown",
   "metadata": {},
   "source": [
    "# TEDx Scraper\n",
    "\n",
    "\n",
    "This scraper downloads more than 3,300 talks from www.ted.com\n",
    "in order to create a dataset for research purporse.\n",
    "\n",
    "The main dataset is composed by the following attributes:\n",
    "- unique id\n",
    "- details\n",
    "- posted\n",
    "- main_speaker\n",
    "- event\n",
    "- title\n",
    "- num_views\n",
    "- url\n",
    "\n",
    "The tags dataset is composed by the following attributes (linked 1-n with the main dataset):\n",
    "- unique id\n",
    "- tag\n",
    "\n",
    "The \"watch next\" dataset is composed by the following attributes:\n",
    "- id\n",
    "- watch_next_id\n",
    "\n",
    "\n",
    "The  is organized with the following sections:\n",
    "\n",
    "- Setup of the env (install libraries, set up variables and credentials, ...)\n",
    "- Download of the index (with Selenium and Chrome Browser libraries)\n",
    "- Parse DOM of the web pages and download each single TEDx\n",
    "- Store the data on CSV files"
   ]
  },
  {
   "cell_type": "markdown",
   "metadata": {},
   "source": [
    "### Setup of the env\n",
    "\n",
    "Install and import of python libraries "
   ]
  },
  {
   "cell_type": "code",
   "execution_count": 21,
   "metadata": {},
   "outputs": [
    {
     "name": "stdout",
     "output_type": "stream",
     "text": [
      "Requirement already satisfied: selenium in c:\\users\\lussi\\anaconda3\\lib\\site-packages (3.141.0)\n",
      "Requirement already satisfied: urllib3 in c:\\users\\lussi\\anaconda3\\lib\\site-packages (from selenium) (1.26.4)\n",
      "Requirement already satisfied: pandas in c:\\users\\lussi\\anaconda3\\lib\\site-packages (1.2.4)\n",
      "Requirement already satisfied: pytz>=2017.3 in c:\\users\\lussi\\anaconda3\\lib\\site-packages (from pandas) (2021.1)\n",
      "Requirement already satisfied: python-dateutil>=2.7.3 in c:\\users\\lussi\\anaconda3\\lib\\site-packages (from pandas) (2.8.1)\n",
      "Requirement already satisfied: numpy>=1.16.5 in c:\\users\\lussi\\anaconda3\\lib\\site-packages (from pandas) (1.20.1)\n",
      "Requirement already satisfied: six>=1.5 in c:\\users\\lussi\\anaconda3\\lib\\site-packages (from python-dateutil>=2.7.3->pandas) (1.15.0)\n"
     ]
    }
   ],
   "source": [
    "!pip3 install selenium\n",
    "!pip3 install pandas"
   ]
  },
  {
   "cell_type": "code",
   "execution_count": 22,
   "metadata": {},
   "outputs": [],
   "source": [
    "import requests\n",
    "import pandas as pd\n",
    "import time\n",
    "from selenium import webdriver as wd\n",
    "import selenium\n",
    "import json\n",
    "import hashlib "
   ]
  },
  {
   "cell_type": "markdown",
   "metadata": {},
   "source": [
    "Set the following variables to download data:\n",
    "\n",
    "- max_page: max number of pages to loop (set to -1 to download all the pages)\n",
    "- sleep_time: to be polite with TEDx (number of seconds between different request)\n",
    "\n",
    "\n"
   ]
  },
  {
   "cell_type": "code",
   "execution_count": 23,
   "metadata": {},
   "outputs": [],
   "source": [
    "max_page = 142\n",
    "sleep_time = 1\n",
    "log = False"
   ]
  },
  {
   "cell_type": "markdown",
   "metadata": {},
   "source": [
    "This notebook uses Chrome Driver to simulate user interaction with TEDx.\n",
    "To set up Chrome Driver on your laptop please refer to https://chromedriver.chromium.org/downloads\n",
    "\n",
    "The notebook is tested with\n",
    "`ChromeDriver 79.0.3945.36`\n",
    "\n",
    "Please set up `chromedriver_path` to your Chrome Driver folder.\n",
    "For example:\n",
    "\n",
    "~~~~~\n",
    "chromedriver_path =  '/Users/mauropelucchi/Downloads/chromedriver2'\n",
    "~~~~~"
   ]
  },
  {
   "cell_type": "code",
   "execution_count": 24,
   "metadata": {},
   "outputs": [],
   "source": [
    "chromedriver_path =  '/Users/lussi/Desktop/chromedriver.exe'"
   ]
  },
  {
   "cell_type": "code",
   "execution_count": 25,
   "metadata": {},
   "outputs": [
    {
     "name": "stdout",
     "output_type": "stream",
     "text": [
      "Navigate to https://www.ted.com/talks\n"
     ]
    }
   ],
   "source": [
    "# from https://github.com/MatthewChatham/glassdoor-review-scraper/blob/master/main.py\n",
    "\n",
    "def get_browser():\n",
    "    chrome_options = wd.ChromeOptions()\n",
    "    chrome_options.add_argument('log-level=3')\n",
    "    browser = wd.Chrome(chromedriver_path, options=chrome_options)\n",
    "    return browser\n",
    "\n",
    "browser = get_browser()\n",
    "\n",
    "def talks_page():\n",
    "    url = 'https://www.ted.com/talks'\n",
    "    print(f'Navigate to {url}')\n",
    "    browser.get(url)\n",
    "    time.sleep(sleep_time * 4)\n",
    "#    cookie_btn = browser.find_element_by_id('_evidon-accept-button')\n",
    "#    cookie_btn.click()\n",
    "    time.sleep(sleep_time)\n",
    "    \n",
    "talks_page()"
   ]
  },
  {
   "cell_type": "markdown",
   "metadata": {},
   "source": [
    "# Get TEDx data\n",
    "\n",
    "`get_tedx_list` function gets a response and produces a list composed by a dict with\n",
    "\n",
    "~~~~\n",
    "{'main_speaker': 'Alexandra Auer',\n",
    "  'url': 'https://www.ted.com/talks/alexandra_auer_the_intangible_effects_of_walls_apr_2020',\n",
    "  'id': 1,\n",
    "  ...\n",
    "}\n",
    "~~~~\n",
    "\n",
    "To use id:\n",
    "~~~~\n",
    "my_tedx_list = get_tedx_list(0)\n",
    "~~~~\n",
    "\n",
    "To download all the data:\n",
    "~~~~\n",
    "my_tedx_list = get_tedx_all()\n",
    "~~~~"
   ]
  },
  {
   "cell_type": "code",
   "execution_count": 26,
   "metadata": {},
   "outputs": [],
   "source": [
    "def get_tedx(my_tedx):\n",
    "    if log:\n",
    "        print(\"Current url: \" + my_tedx['url'])\n",
    "    try:\n",
    "        browser.get(my_tedx['url'])\n",
    "        my_tedx['details'] = browser.find_element_by_xpath(\"//meta[@name='description']\").get_attribute('content')\n",
    "        my_tedx['tags'] = browser.find_element_by_xpath(\"//meta[@name='keywords']\") \\\n",
    "            .get_attribute('content') \\\n",
    "            .split(\", \")\n",
    "        try:\n",
    "            my_tedx['num_views'] = browser.find_elements_by_css_selector(\".css-1uodv95\")[0].text\n",
    "        except:\n",
    "            my_tedx['num_views'] = 0\n",
    "        l = browser.find_elements_by_css_selector(\".react-tabs__tab-panel--selected a\")\n",
    "        watch_next = []\n",
    "        for rel in l:\n",
    "            url = rel.get_attribute('href')\n",
    "            idx = hashlib.md5(url.encode()).hexdigest()\n",
    "            watch_next.append({\"url\": url, \"idx\": idx})\n",
    "        my_tedx['watch_next'] = watch_next\n",
    "    except:\n",
    "        pass\n",
    "    return my_tedx\n",
    "    \n",
    "def get_tedx_list(step = 0):\n",
    "    if(step == 0):\n",
    "        url = 'https://www.ted.com/talks'\n",
    "        browser.get(url)\n",
    "    print(\"Current url: \" + browser.current_url)\n",
    "    print(f\"Current step: {step}\")\n",
    "    tedxs =  browser.find_elements_by_css_selector('#browse-results .col')\n",
    "    tedxs_number = len(tedxs)\n",
    "    print(f\"Total number of TEDx in this page: {tedxs_number}\")\n",
    "    my_tedx_list = []\n",
    "    for d_tedx in tedxs:\n",
    "        my_tedx = {\"main_speaker\": \"\", \"url\": \"\", \"posted\": \"\"}\n",
    "        my_tedx['main_speaker'] = d_tedx.find_elements_by_css_selector(\".talk-link__speaker\")[0].text\n",
    "        my_tedx['title'] = d_tedx.find_elements_by_css_selector(\".ga-link\")[1].text\n",
    "        my_tedx['url'] = d_tedx.find_elements_by_css_selector(\".ga-link\")[1].get_attribute('href')\n",
    "        my_tedx['idx'] = hashlib.md5(my_tedx['url'].encode()).hexdigest()\n",
    "        my_tedx['posted'] = d_tedx.find_elements_by_css_selector(\".meta__item\")[0].text\n",
    "        try:\n",
    "            my_tedx['duration'] = d_tedx.find_elements_by_css_selector(\".thumb__duration\")[0].text\n",
    "        except:\n",
    "            my_tedx['duration'] = 0\n",
    "        my_tedx_list.append(my_tedx)\n",
    "        time.sleep(sleep_time)\n",
    "    return my_tedx_list\n",
    "\n",
    "\n",
    "def get_tedx_all():\n",
    "    my_tedx_list = []\n",
    "    for page in range(0, max_page):\n",
    "        my_tedx_list.extend(get_tedx_list(page))\n",
    "        get_next = browser.find_elements_by_css_selector(\".pagination__next\")[0].get_attribute('href')\n",
    "        if get_next and (page < max_page or max_page == -1):\n",
    "            browser.get(get_next)\n",
    "        else:\n",
    "            break\n",
    "    my_tedx_list_final = []\n",
    "    for my_tedx in my_tedx_list:\n",
    "        my_tedx_list_final.append(get_tedx(my_tedx))\n",
    "        time.sleep(sleep_time)\n",
    "    return my_tedx_list_final"
   ]
  },
  {
   "cell_type": "code",
   "execution_count": null,
   "metadata": {},
   "outputs": [],
   "source": []
  },
  {
   "cell_type": "code",
   "execution_count": null,
   "metadata": {},
   "outputs": [],
   "source": []
  },
  {
   "cell_type": "markdown",
   "metadata": {},
   "source": [
    "## Download and store the data to CSV file\n",
    "\n"
   ]
  },
  {
   "cell_type": "code",
   "execution_count": 27,
   "metadata": {},
   "outputs": [
    {
     "name": "stdout",
     "output_type": "stream",
     "text": [
    
     ]
    }
   ],
   "source": [
    "my_tedx_list = get_tedx_all()"
   ]
  },
  {
   "cell_type": "code",
   "execution_count": 28,
   "metadata": {},
   "outputs": [
    {
     "name": "stdout",
     "output_type": "stream",
     "text": [
      "5096\n"
     ]
    }
   ],
   "source": [
    "print(len(my_tedx_list))"
   ]
  },
  {
   "cell_type": "code",
   "execution_count": null,
   "metadata": {},
   "outputs": [],
   "source": []
  },
  {
   "cell_type": "code",
   "execution_count": 29,
   "metadata": {},
   "outputs": [],
   "source": [
    "df = pd.DataFrame.from_dict(my_tedx_list)\n",
    "df = df.to_csv('tedx_dataset.csv', columns=['idx','main_speaker','title', 'details','posted', 'url', 'num_views', 'duration'], index=False)"
   ]
  },
  {
   "cell_type": "code",
   "execution_count": 30,
   "metadata": {},
   "outputs": [],
   "source": [
    "tags_dataset = []\n",
    "for o in my_tedx_list:\n",
    "    for t in o['tags']:\n",
    "        tags_dataset.append({\"idx\": o['idx'], \"tag\": t})\n",
    "tags_df = pd.DataFrame.from_dict(tags_dataset)\n",
    "tags_df.to_csv('tags_dataset.csv', index=False)"
   ]
  },
  {
   "cell_type": "code",
   "execution_count": 31,
   "metadata": {},
   "outputs": [],
   "source": [
    "watch_next_dataset = []\n",
    "for o in my_tedx_list:\n",
    "    for t in o['watch_next']:\n",
    "        watch_next_dataset.append({\"idx\": o['idx'], \"url\": t['url'], \"watch_next_idx\": t['idx']})\n",
    "watch_next_df = pd.DataFrame.from_dict(watch_next_dataset)\n",
    "watch_next_df.to_csv('watch_next_dataset.csv', index=False)"
   ]
  },
  {
   "cell_type": "code",
   "execution_count": null,
   "metadata": {},
   "outputs": [],
   "source": []
  },
  {
   "cell_type": "code",
   "execution_count": null,
   "metadata": {},
   "outputs": [],
   "source": []
  },
  {
   "cell_type": "code",
   "execution_count": null,
   "metadata": {},
   "outputs": [],
   "source": []
  },
  {
   "cell_type": "code",
   "execution_count": null,
   "metadata": {},
   "outputs": [],
   "source": []
  },
  {
   "cell_type": "code",
   "execution_count": null,
   "metadata": {},
   "outputs": [],
   "source": []
  },
  {
   "cell_type": "code",
   "execution_count": null,
   "metadata": {},
   "outputs": [],
   "source": []
  }
 ],
 "metadata": {
  "kernelspec": {
   "display_name": "Python 3",
   "language": "python",
   "name": "python3"
  },
  "language_info": {
   "codemirror_mode": {
    "name": "ipython",
    "version": 3
   },
   "file_extension": ".py",
   "mimetype": "text/x-python",
   "name": "python",
   "nbconvert_exporter": "python",
   "pygments_lexer": "ipython3",
   "version": "3.8.8"
  }
 },
 "nbformat": 4,
 "nbformat_minor": 2
}
